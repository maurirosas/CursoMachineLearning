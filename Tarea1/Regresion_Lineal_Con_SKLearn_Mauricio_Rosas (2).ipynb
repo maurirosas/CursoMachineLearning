{
  "nbformat": 4,
  "nbformat_minor": 0,
  "metadata": {
    "colab": {
      "provenance": []
    },
    "kernelspec": {
      "name": "python3",
      "display_name": "Python 3"
    },
    "language_info": {
      "name": "python"
    }
  },
  "cells": [
    {
      "cell_type": "markdown",
      "source": [
        "#Regresión Lineal con SkLearn"
      ],
      "metadata": {
        "id": "uCmwPl2rKEox"
      }
    },
    {
      "cell_type": "code",
      "execution_count": null,
      "metadata": {
        "id": "-h_MX2sUHdtW"
      },
      "outputs": [],
      "source": [
        "#Comenzamos importando las librerias requeridas para realizar el análisis\n",
        "import pandas as pd\n",
        "import matplotlib.pyplot as plt\n",
        "import numpy as np\n",
        "\n",
        "#Sklearn\n",
        "from sklearn.preprocessing import LabelEncoder\n",
        "from sklearn.linear_model import LinearRegression,Lasso,Ridge\n",
        "from sklearn.preprocessing import StandardScaler\n",
        "from sklearn.model_selection import train_test_split\n",
        "from sklearn.ensemble import RandomForestRegressor,GradientBoostingRegressor\n",
        "from sklearn.metrics import mean_squared_error,r2_score"
      ]
    },
    {
      "cell_type": "markdown",
      "source": [
        "##Trabajo con el DataSet"
      ],
      "metadata": {
        "id": "-_p6b6slLZTS"
      }
    },
    {
      "cell_type": "code",
      "source": [
        "#Importamos el DataSet, se encuentra almacenado de manera local\n",
        "df = pd.read_csv(\"dummyData.csv\")\n",
        "df.head(10)"
      ],
      "metadata": {
        "colab": {
          "base_uri": "https://localhost:8080/",
          "height": 363
        },
        "id": "4YMF3DHSLbQh",
        "outputId": "4e73931a-7f64-4661-fac7-0db3c894edef"
      },
      "execution_count": null,
      "outputs": [
        {
          "output_type": "execute_result",
          "data": {
            "text/plain": [
              "     TV      Radio  Social Media Influencer       Sales\n",
              "0  16.0   6.566231      2.907983       Mega   54.732757\n",
              "1  13.0   9.237765      2.409567       Mega   46.677897\n",
              "2  41.0  15.886446      2.913410       Mega  150.177829\n",
              "3  83.0  30.020028      6.922304       Mega  298.246340\n",
              "4  15.0   8.437408      1.405998      Micro   56.594181\n",
              "5  29.0   9.614382      1.027163       Mega  105.889148\n",
              "6  55.0  24.893811      4.273602      Micro  198.679825\n",
              "7  31.0  17.355042      2.289855       Nano  108.733932\n",
              "8  76.0  24.648898      7.130116      Macro  270.189400\n",
              "9  13.0   0.431128      2.229423       Mega   48.280582"
            ],
            "text/html": [
              "\n",
              "  <div id=\"df-39740bae-a8cb-4837-9f83-593bad463bb7\">\n",
              "    <div class=\"colab-df-container\">\n",
              "      <div>\n",
              "<style scoped>\n",
              "    .dataframe tbody tr th:only-of-type {\n",
              "        vertical-align: middle;\n",
              "    }\n",
              "\n",
              "    .dataframe tbody tr th {\n",
              "        vertical-align: top;\n",
              "    }\n",
              "\n",
              "    .dataframe thead th {\n",
              "        text-align: right;\n",
              "    }\n",
              "</style>\n",
              "<table border=\"1\" class=\"dataframe\">\n",
              "  <thead>\n",
              "    <tr style=\"text-align: right;\">\n",
              "      <th></th>\n",
              "      <th>TV</th>\n",
              "      <th>Radio</th>\n",
              "      <th>Social Media</th>\n",
              "      <th>Influencer</th>\n",
              "      <th>Sales</th>\n",
              "    </tr>\n",
              "  </thead>\n",
              "  <tbody>\n",
              "    <tr>\n",
              "      <th>0</th>\n",
              "      <td>16.0</td>\n",
              "      <td>6.566231</td>\n",
              "      <td>2.907983</td>\n",
              "      <td>Mega</td>\n",
              "      <td>54.732757</td>\n",
              "    </tr>\n",
              "    <tr>\n",
              "      <th>1</th>\n",
              "      <td>13.0</td>\n",
              "      <td>9.237765</td>\n",
              "      <td>2.409567</td>\n",
              "      <td>Mega</td>\n",
              "      <td>46.677897</td>\n",
              "    </tr>\n",
              "    <tr>\n",
              "      <th>2</th>\n",
              "      <td>41.0</td>\n",
              "      <td>15.886446</td>\n",
              "      <td>2.913410</td>\n",
              "      <td>Mega</td>\n",
              "      <td>150.177829</td>\n",
              "    </tr>\n",
              "    <tr>\n",
              "      <th>3</th>\n",
              "      <td>83.0</td>\n",
              "      <td>30.020028</td>\n",
              "      <td>6.922304</td>\n",
              "      <td>Mega</td>\n",
              "      <td>298.246340</td>\n",
              "    </tr>\n",
              "    <tr>\n",
              "      <th>4</th>\n",
              "      <td>15.0</td>\n",
              "      <td>8.437408</td>\n",
              "      <td>1.405998</td>\n",
              "      <td>Micro</td>\n",
              "      <td>56.594181</td>\n",
              "    </tr>\n",
              "    <tr>\n",
              "      <th>5</th>\n",
              "      <td>29.0</td>\n",
              "      <td>9.614382</td>\n",
              "      <td>1.027163</td>\n",
              "      <td>Mega</td>\n",
              "      <td>105.889148</td>\n",
              "    </tr>\n",
              "    <tr>\n",
              "      <th>6</th>\n",
              "      <td>55.0</td>\n",
              "      <td>24.893811</td>\n",
              "      <td>4.273602</td>\n",
              "      <td>Micro</td>\n",
              "      <td>198.679825</td>\n",
              "    </tr>\n",
              "    <tr>\n",
              "      <th>7</th>\n",
              "      <td>31.0</td>\n",
              "      <td>17.355042</td>\n",
              "      <td>2.289855</td>\n",
              "      <td>Nano</td>\n",
              "      <td>108.733932</td>\n",
              "    </tr>\n",
              "    <tr>\n",
              "      <th>8</th>\n",
              "      <td>76.0</td>\n",
              "      <td>24.648898</td>\n",
              "      <td>7.130116</td>\n",
              "      <td>Macro</td>\n",
              "      <td>270.189400</td>\n",
              "    </tr>\n",
              "    <tr>\n",
              "      <th>9</th>\n",
              "      <td>13.0</td>\n",
              "      <td>0.431128</td>\n",
              "      <td>2.229423</td>\n",
              "      <td>Mega</td>\n",
              "      <td>48.280582</td>\n",
              "    </tr>\n",
              "  </tbody>\n",
              "</table>\n",
              "</div>\n",
              "      <button class=\"colab-df-convert\" onclick=\"convertToInteractive('df-39740bae-a8cb-4837-9f83-593bad463bb7')\"\n",
              "              title=\"Convert this dataframe to an interactive table.\"\n",
              "              style=\"display:none;\">\n",
              "        \n",
              "  <svg xmlns=\"http://www.w3.org/2000/svg\" height=\"24px\"viewBox=\"0 0 24 24\"\n",
              "       width=\"24px\">\n",
              "    <path d=\"M0 0h24v24H0V0z\" fill=\"none\"/>\n",
              "    <path d=\"M18.56 5.44l.94 2.06.94-2.06 2.06-.94-2.06-.94-.94-2.06-.94 2.06-2.06.94zm-11 1L8.5 8.5l.94-2.06 2.06-.94-2.06-.94L8.5 2.5l-.94 2.06-2.06.94zm10 10l.94 2.06.94-2.06 2.06-.94-2.06-.94-.94-2.06-.94 2.06-2.06.94z\"/><path d=\"M17.41 7.96l-1.37-1.37c-.4-.4-.92-.59-1.43-.59-.52 0-1.04.2-1.43.59L10.3 9.45l-7.72 7.72c-.78.78-.78 2.05 0 2.83L4 21.41c.39.39.9.59 1.41.59.51 0 1.02-.2 1.41-.59l7.78-7.78 2.81-2.81c.8-.78.8-2.07 0-2.86zM5.41 20L4 18.59l7.72-7.72 1.47 1.35L5.41 20z\"/>\n",
              "  </svg>\n",
              "      </button>\n",
              "      \n",
              "  <style>\n",
              "    .colab-df-container {\n",
              "      display:flex;\n",
              "      flex-wrap:wrap;\n",
              "      gap: 12px;\n",
              "    }\n",
              "\n",
              "    .colab-df-convert {\n",
              "      background-color: #E8F0FE;\n",
              "      border: none;\n",
              "      border-radius: 50%;\n",
              "      cursor: pointer;\n",
              "      display: none;\n",
              "      fill: #1967D2;\n",
              "      height: 32px;\n",
              "      padding: 0 0 0 0;\n",
              "      width: 32px;\n",
              "    }\n",
              "\n",
              "    .colab-df-convert:hover {\n",
              "      background-color: #E2EBFA;\n",
              "      box-shadow: 0px 1px 2px rgba(60, 64, 67, 0.3), 0px 1px 3px 1px rgba(60, 64, 67, 0.15);\n",
              "      fill: #174EA6;\n",
              "    }\n",
              "\n",
              "    [theme=dark] .colab-df-convert {\n",
              "      background-color: #3B4455;\n",
              "      fill: #D2E3FC;\n",
              "    }\n",
              "\n",
              "    [theme=dark] .colab-df-convert:hover {\n",
              "      background-color: #434B5C;\n",
              "      box-shadow: 0px 1px 3px 1px rgba(0, 0, 0, 0.15);\n",
              "      filter: drop-shadow(0px 1px 2px rgba(0, 0, 0, 0.3));\n",
              "      fill: #FFFFFF;\n",
              "    }\n",
              "  </style>\n",
              "\n",
              "      <script>\n",
              "        const buttonEl =\n",
              "          document.querySelector('#df-39740bae-a8cb-4837-9f83-593bad463bb7 button.colab-df-convert');\n",
              "        buttonEl.style.display =\n",
              "          google.colab.kernel.accessAllowed ? 'block' : 'none';\n",
              "\n",
              "        async function convertToInteractive(key) {\n",
              "          const element = document.querySelector('#df-39740bae-a8cb-4837-9f83-593bad463bb7');\n",
              "          const dataTable =\n",
              "            await google.colab.kernel.invokeFunction('convertToInteractive',\n",
              "                                                     [key], {});\n",
              "          if (!dataTable) return;\n",
              "\n",
              "          const docLinkHtml = 'Like what you see? Visit the ' +\n",
              "            '<a target=\"_blank\" href=https://colab.research.google.com/notebooks/data_table.ipynb>data table notebook</a>'\n",
              "            + ' to learn more about interactive tables.';\n",
              "          element.innerHTML = '';\n",
              "          dataTable['output_type'] = 'display_data';\n",
              "          await google.colab.output.renderOutput(dataTable, element);\n",
              "          const docLink = document.createElement('div');\n",
              "          docLink.innerHTML = docLinkHtml;\n",
              "          element.appendChild(docLink);\n",
              "        }\n",
              "      </script>\n",
              "    </div>\n",
              "  </div>\n",
              "  "
            ]
          },
          "metadata": {},
          "execution_count": 2
        }
      ]
    },
    {
      "cell_type": "code",
      "source": [
        "df.info()"
      ],
      "metadata": {
        "colab": {
          "base_uri": "https://localhost:8080/"
        },
        "id": "CHq99h_bMQkj",
        "outputId": "00e008a4-020d-4102-fdca-46c33ec5cc28"
      },
      "execution_count": null,
      "outputs": [
        {
          "output_type": "stream",
          "name": "stdout",
          "text": [
            "<class 'pandas.core.frame.DataFrame'>\n",
            "RangeIndex: 4572 entries, 0 to 4571\n",
            "Data columns (total 5 columns):\n",
            " #   Column        Non-Null Count  Dtype  \n",
            "---  ------        --------------  -----  \n",
            " 0   TV            4562 non-null   float64\n",
            " 1   Radio         4568 non-null   float64\n",
            " 2   Social Media  4566 non-null   float64\n",
            " 3   Influencer    4572 non-null   object \n",
            " 4   Sales         4566 non-null   float64\n",
            "dtypes: float64(4), object(1)\n",
            "memory usage: 178.7+ KB\n"
          ]
        }
      ]
    },
    {
      "cell_type": "markdown",
      "source": [
        "###Tratamiento de datos nulos"
      ],
      "metadata": {
        "id": "lrC2n8s0OLU6"
      }
    },
    {
      "cell_type": "code",
      "source": [
        "#Preguntamos cuáles son las columnas que contienen datos nulos\n",
        "df.isnull().any()"
      ],
      "metadata": {
        "colab": {
          "base_uri": "https://localhost:8080/"
        },
        "id": "lsxaj2E0NVZi",
        "outputId": "355308a7-94b4-46e4-9e7d-30f39653df29"
      },
      "execution_count": null,
      "outputs": [
        {
          "output_type": "execute_result",
          "data": {
            "text/plain": [
              "TV               True\n",
              "Radio            True\n",
              "Social Media     True\n",
              "Influencer      False\n",
              "Sales            True\n",
              "dtype: bool"
            ]
          },
          "metadata": {},
          "execution_count": 4
        }
      ]
    },
    {
      "cell_type": "code",
      "source": [
        "#Comprobar cuántos datos nulos existen en cada columna\n",
        "df.isnull().sum()"
      ],
      "metadata": {
        "colab": {
          "base_uri": "https://localhost:8080/"
        },
        "id": "rvEhR0P4MoI8",
        "outputId": "28d6db6b-2109-4d5a-e6dd-73b81ef21fb0"
      },
      "execution_count": null,
      "outputs": [
        {
          "output_type": "execute_result",
          "data": {
            "text/plain": [
              "TV              10\n",
              "Radio            4\n",
              "Social Media     6\n",
              "Influencer       0\n",
              "Sales            6\n",
              "dtype: int64"
            ]
          },
          "metadata": {},
          "execution_count": 5
        }
      ]
    },
    {
      "cell_type": "markdown",
      "source": [
        "Los datos nulos son muy pocos, por lo tanto es conveniente eliminarlos del dataset, pues no son significantes"
      ],
      "metadata": {
        "id": "mSZ5d6qOM84I"
      }
    },
    {
      "cell_type": "code",
      "source": [
        "#Eliminamos los datos nulos\n",
        "df.dropna(inplace=True)"
      ],
      "metadata": {
        "id": "kB3GPZNQM37_"
      },
      "execution_count": null,
      "outputs": []
    },
    {
      "cell_type": "code",
      "source": [
        "#Comprobamos cuantos datos nulos existen en las columnas\n",
        "df.isnull().sum()"
      ],
      "metadata": {
        "colab": {
          "base_uri": "https://localhost:8080/"
        },
        "id": "2eudTmVlNv4M",
        "outputId": "e64ddec0-1ad4-43df-d697-a4f655f06bfd"
      },
      "execution_count": null,
      "outputs": [
        {
          "output_type": "execute_result",
          "data": {
            "text/plain": [
              "TV              0\n",
              "Radio           0\n",
              "Social Media    0\n",
              "Influencer      0\n",
              "Sales           0\n",
              "dtype: int64"
            ]
          },
          "metadata": {},
          "execution_count": 7
        }
      ]
    },
    {
      "cell_type": "markdown",
      "source": [
        "###Tratamiento de features\n",
        "\n",
        "Podemos ver que en la columna Influencer se encuentran las categorías de Macro Mega Micro y Nano, se ve conveniente por categorizarlas con LabelEncoder"
      ],
      "metadata": {
        "id": "B8__weRPOFAv"
      }
    },
    {
      "cell_type": "code",
      "source": [
        "#Saber qué categorías existen en la columna de Influencer\n",
        "print(np.unique(df['Influencer']))\n",
        "#Cantidad de categorías\n",
        "print(len(np.unique(df['Influencer'])))"
      ],
      "metadata": {
        "colab": {
          "base_uri": "https://localhost:8080/"
        },
        "id": "7QlyYtJmNxZw",
        "outputId": "c14cc0f9-fd93-45dc-e8c0-22c617438bff"
      },
      "execution_count": null,
      "outputs": [
        {
          "output_type": "stream",
          "name": "stdout",
          "text": [
            "['Macro' 'Mega' 'Micro' 'Nano']\n",
            "4\n"
          ]
        }
      ]
    },
    {
      "cell_type": "code",
      "source": [
        "#Usamos LabelEncoder para convertir los datos de la columna\n",
        "gle = LabelEncoder()\n",
        "df['Influencer'] = gle.fit_transform(df['Influencer'])\n",
        "df"
      ],
      "metadata": {
        "colab": {
          "base_uri": "https://localhost:8080/",
          "height": 424
        },
        "id": "HUiFszyTQl7V",
        "outputId": "c9ae8d2e-beb7-4d2c-b240-df8f1cc867bc"
      },
      "execution_count": null,
      "outputs": [
        {
          "output_type": "execute_result",
          "data": {
            "text/plain": [
              "        TV      Radio  Social Media  Influencer       Sales\n",
              "0     16.0   6.566231      2.907983           1   54.732757\n",
              "1     13.0   9.237765      2.409567           1   46.677897\n",
              "2     41.0  15.886446      2.913410           1  150.177829\n",
              "3     83.0  30.020028      6.922304           1  298.246340\n",
              "4     15.0   8.437408      1.405998           2   56.594181\n",
              "...    ...        ...           ...         ...         ...\n",
              "4567  26.0   4.472360      0.717090           2   94.685866\n",
              "4568  71.0  20.610685      6.545573           3  249.101915\n",
              "4569  44.0  19.800072      5.096192           2  163.631457\n",
              "4570  71.0  17.534640      1.940873           0  253.610411\n",
              "4571  42.0  15.966688      5.046548           2  148.202414\n",
              "\n",
              "[4546 rows x 5 columns]"
            ],
            "text/html": [
              "\n",
              "  <div id=\"df-96f8aea9-e7d1-4424-8aef-1445eede2545\">\n",
              "    <div class=\"colab-df-container\">\n",
              "      <div>\n",
              "<style scoped>\n",
              "    .dataframe tbody tr th:only-of-type {\n",
              "        vertical-align: middle;\n",
              "    }\n",
              "\n",
              "    .dataframe tbody tr th {\n",
              "        vertical-align: top;\n",
              "    }\n",
              "\n",
              "    .dataframe thead th {\n",
              "        text-align: right;\n",
              "    }\n",
              "</style>\n",
              "<table border=\"1\" class=\"dataframe\">\n",
              "  <thead>\n",
              "    <tr style=\"text-align: right;\">\n",
              "      <th></th>\n",
              "      <th>TV</th>\n",
              "      <th>Radio</th>\n",
              "      <th>Social Media</th>\n",
              "      <th>Influencer</th>\n",
              "      <th>Sales</th>\n",
              "    </tr>\n",
              "  </thead>\n",
              "  <tbody>\n",
              "    <tr>\n",
              "      <th>0</th>\n",
              "      <td>16.0</td>\n",
              "      <td>6.566231</td>\n",
              "      <td>2.907983</td>\n",
              "      <td>1</td>\n",
              "      <td>54.732757</td>\n",
              "    </tr>\n",
              "    <tr>\n",
              "      <th>1</th>\n",
              "      <td>13.0</td>\n",
              "      <td>9.237765</td>\n",
              "      <td>2.409567</td>\n",
              "      <td>1</td>\n",
              "      <td>46.677897</td>\n",
              "    </tr>\n",
              "    <tr>\n",
              "      <th>2</th>\n",
              "      <td>41.0</td>\n",
              "      <td>15.886446</td>\n",
              "      <td>2.913410</td>\n",
              "      <td>1</td>\n",
              "      <td>150.177829</td>\n",
              "    </tr>\n",
              "    <tr>\n",
              "      <th>3</th>\n",
              "      <td>83.0</td>\n",
              "      <td>30.020028</td>\n",
              "      <td>6.922304</td>\n",
              "      <td>1</td>\n",
              "      <td>298.246340</td>\n",
              "    </tr>\n",
              "    <tr>\n",
              "      <th>4</th>\n",
              "      <td>15.0</td>\n",
              "      <td>8.437408</td>\n",
              "      <td>1.405998</td>\n",
              "      <td>2</td>\n",
              "      <td>56.594181</td>\n",
              "    </tr>\n",
              "    <tr>\n",
              "      <th>...</th>\n",
              "      <td>...</td>\n",
              "      <td>...</td>\n",
              "      <td>...</td>\n",
              "      <td>...</td>\n",
              "      <td>...</td>\n",
              "    </tr>\n",
              "    <tr>\n",
              "      <th>4567</th>\n",
              "      <td>26.0</td>\n",
              "      <td>4.472360</td>\n",
              "      <td>0.717090</td>\n",
              "      <td>2</td>\n",
              "      <td>94.685866</td>\n",
              "    </tr>\n",
              "    <tr>\n",
              "      <th>4568</th>\n",
              "      <td>71.0</td>\n",
              "      <td>20.610685</td>\n",
              "      <td>6.545573</td>\n",
              "      <td>3</td>\n",
              "      <td>249.101915</td>\n",
              "    </tr>\n",
              "    <tr>\n",
              "      <th>4569</th>\n",
              "      <td>44.0</td>\n",
              "      <td>19.800072</td>\n",
              "      <td>5.096192</td>\n",
              "      <td>2</td>\n",
              "      <td>163.631457</td>\n",
              "    </tr>\n",
              "    <tr>\n",
              "      <th>4570</th>\n",
              "      <td>71.0</td>\n",
              "      <td>17.534640</td>\n",
              "      <td>1.940873</td>\n",
              "      <td>0</td>\n",
              "      <td>253.610411</td>\n",
              "    </tr>\n",
              "    <tr>\n",
              "      <th>4571</th>\n",
              "      <td>42.0</td>\n",
              "      <td>15.966688</td>\n",
              "      <td>5.046548</td>\n",
              "      <td>2</td>\n",
              "      <td>148.202414</td>\n",
              "    </tr>\n",
              "  </tbody>\n",
              "</table>\n",
              "<p>4546 rows × 5 columns</p>\n",
              "</div>\n",
              "      <button class=\"colab-df-convert\" onclick=\"convertToInteractive('df-96f8aea9-e7d1-4424-8aef-1445eede2545')\"\n",
              "              title=\"Convert this dataframe to an interactive table.\"\n",
              "              style=\"display:none;\">\n",
              "        \n",
              "  <svg xmlns=\"http://www.w3.org/2000/svg\" height=\"24px\"viewBox=\"0 0 24 24\"\n",
              "       width=\"24px\">\n",
              "    <path d=\"M0 0h24v24H0V0z\" fill=\"none\"/>\n",
              "    <path d=\"M18.56 5.44l.94 2.06.94-2.06 2.06-.94-2.06-.94-.94-2.06-.94 2.06-2.06.94zm-11 1L8.5 8.5l.94-2.06 2.06-.94-2.06-.94L8.5 2.5l-.94 2.06-2.06.94zm10 10l.94 2.06.94-2.06 2.06-.94-2.06-.94-.94-2.06-.94 2.06-2.06.94z\"/><path d=\"M17.41 7.96l-1.37-1.37c-.4-.4-.92-.59-1.43-.59-.52 0-1.04.2-1.43.59L10.3 9.45l-7.72 7.72c-.78.78-.78 2.05 0 2.83L4 21.41c.39.39.9.59 1.41.59.51 0 1.02-.2 1.41-.59l7.78-7.78 2.81-2.81c.8-.78.8-2.07 0-2.86zM5.41 20L4 18.59l7.72-7.72 1.47 1.35L5.41 20z\"/>\n",
              "  </svg>\n",
              "      </button>\n",
              "      \n",
              "  <style>\n",
              "    .colab-df-container {\n",
              "      display:flex;\n",
              "      flex-wrap:wrap;\n",
              "      gap: 12px;\n",
              "    }\n",
              "\n",
              "    .colab-df-convert {\n",
              "      background-color: #E8F0FE;\n",
              "      border: none;\n",
              "      border-radius: 50%;\n",
              "      cursor: pointer;\n",
              "      display: none;\n",
              "      fill: #1967D2;\n",
              "      height: 32px;\n",
              "      padding: 0 0 0 0;\n",
              "      width: 32px;\n",
              "    }\n",
              "\n",
              "    .colab-df-convert:hover {\n",
              "      background-color: #E2EBFA;\n",
              "      box-shadow: 0px 1px 2px rgba(60, 64, 67, 0.3), 0px 1px 3px 1px rgba(60, 64, 67, 0.15);\n",
              "      fill: #174EA6;\n",
              "    }\n",
              "\n",
              "    [theme=dark] .colab-df-convert {\n",
              "      background-color: #3B4455;\n",
              "      fill: #D2E3FC;\n",
              "    }\n",
              "\n",
              "    [theme=dark] .colab-df-convert:hover {\n",
              "      background-color: #434B5C;\n",
              "      box-shadow: 0px 1px 3px 1px rgba(0, 0, 0, 0.15);\n",
              "      filter: drop-shadow(0px 1px 2px rgba(0, 0, 0, 0.3));\n",
              "      fill: #FFFFFF;\n",
              "    }\n",
              "  </style>\n",
              "\n",
              "      <script>\n",
              "        const buttonEl =\n",
              "          document.querySelector('#df-96f8aea9-e7d1-4424-8aef-1445eede2545 button.colab-df-convert');\n",
              "        buttonEl.style.display =\n",
              "          google.colab.kernel.accessAllowed ? 'block' : 'none';\n",
              "\n",
              "        async function convertToInteractive(key) {\n",
              "          const element = document.querySelector('#df-96f8aea9-e7d1-4424-8aef-1445eede2545');\n",
              "          const dataTable =\n",
              "            await google.colab.kernel.invokeFunction('convertToInteractive',\n",
              "                                                     [key], {});\n",
              "          if (!dataTable) return;\n",
              "\n",
              "          const docLinkHtml = 'Like what you see? Visit the ' +\n",
              "            '<a target=\"_blank\" href=https://colab.research.google.com/notebooks/data_table.ipynb>data table notebook</a>'\n",
              "            + ' to learn more about interactive tables.';\n",
              "          element.innerHTML = '';\n",
              "          dataTable['output_type'] = 'display_data';\n",
              "          await google.colab.output.renderOutput(dataTable, element);\n",
              "          const docLink = document.createElement('div');\n",
              "          docLink.innerHTML = docLinkHtml;\n",
              "          element.appendChild(docLink);\n",
              "        }\n",
              "      </script>\n",
              "    </div>\n",
              "  </div>\n",
              "  "
            ]
          },
          "metadata": {},
          "execution_count": 9
        }
      ]
    },
    {
      "cell_type": "code",
      "source": [
        "#Creación de un diccionario con el mapeo de indices y valores\n",
        "genre_mappings = {k:v for k,v in enumerate(gle.classes_)}\n",
        "genre_mappings"
      ],
      "metadata": {
        "colab": {
          "base_uri": "https://localhost:8080/"
        },
        "id": "mTKpT9vnQ_jb",
        "outputId": "30cd6fdf-774e-4808-b63b-f46877153632"
      },
      "execution_count": null,
      "outputs": [
        {
          "output_type": "execute_result",
          "data": {
            "text/plain": [
              "{0: 'Macro', 1: 'Mega', 2: 'Micro', 3: 'Nano'}"
            ]
          },
          "metadata": {},
          "execution_count": 10
        }
      ]
    },
    {
      "cell_type": "markdown",
      "source": [
        "##Identificar la correlación entre los features"
      ],
      "metadata": {
        "id": "cbsQzJsf905C"
      }
    },
    {
      "cell_type": "code",
      "source": [
        "#Identificamos la correlación\n",
        "df.corr()"
      ],
      "metadata": {
        "id": "wyVVffoDS4R4",
        "colab": {
          "base_uri": "https://localhost:8080/",
          "height": 206
        },
        "outputId": "97c78e97-32d7-461e-b0fc-c0f2d121d153"
      },
      "execution_count": null,
      "outputs": [
        {
          "output_type": "execute_result",
          "data": {
            "text/plain": [
              "                    TV     Radio  Social Media  Influencer     Sales\n",
              "TV            1.000000  0.869158      0.527687   -0.013724  0.999497\n",
              "Radio         0.869158  1.000000      0.606338   -0.010696  0.868638\n",
              "Social Media  0.527687  0.606338      1.000000   -0.020689  0.527446\n",
              "Influencer   -0.013724 -0.010696     -0.020689    1.000000 -0.014067\n",
              "Sales         0.999497  0.868638      0.527446   -0.014067  1.000000"
            ],
            "text/html": [
              "\n",
              "  <div id=\"df-2e9add7a-13f7-4ef6-83df-b049f2af5372\">\n",
              "    <div class=\"colab-df-container\">\n",
              "      <div>\n",
              "<style scoped>\n",
              "    .dataframe tbody tr th:only-of-type {\n",
              "        vertical-align: middle;\n",
              "    }\n",
              "\n",
              "    .dataframe tbody tr th {\n",
              "        vertical-align: top;\n",
              "    }\n",
              "\n",
              "    .dataframe thead th {\n",
              "        text-align: right;\n",
              "    }\n",
              "</style>\n",
              "<table border=\"1\" class=\"dataframe\">\n",
              "  <thead>\n",
              "    <tr style=\"text-align: right;\">\n",
              "      <th></th>\n",
              "      <th>TV</th>\n",
              "      <th>Radio</th>\n",
              "      <th>Social Media</th>\n",
              "      <th>Influencer</th>\n",
              "      <th>Sales</th>\n",
              "    </tr>\n",
              "  </thead>\n",
              "  <tbody>\n",
              "    <tr>\n",
              "      <th>TV</th>\n",
              "      <td>1.000000</td>\n",
              "      <td>0.869158</td>\n",
              "      <td>0.527687</td>\n",
              "      <td>-0.013724</td>\n",
              "      <td>0.999497</td>\n",
              "    </tr>\n",
              "    <tr>\n",
              "      <th>Radio</th>\n",
              "      <td>0.869158</td>\n",
              "      <td>1.000000</td>\n",
              "      <td>0.606338</td>\n",
              "      <td>-0.010696</td>\n",
              "      <td>0.868638</td>\n",
              "    </tr>\n",
              "    <tr>\n",
              "      <th>Social Media</th>\n",
              "      <td>0.527687</td>\n",
              "      <td>0.606338</td>\n",
              "      <td>1.000000</td>\n",
              "      <td>-0.020689</td>\n",
              "      <td>0.527446</td>\n",
              "    </tr>\n",
              "    <tr>\n",
              "      <th>Influencer</th>\n",
              "      <td>-0.013724</td>\n",
              "      <td>-0.010696</td>\n",
              "      <td>-0.020689</td>\n",
              "      <td>1.000000</td>\n",
              "      <td>-0.014067</td>\n",
              "    </tr>\n",
              "    <tr>\n",
              "      <th>Sales</th>\n",
              "      <td>0.999497</td>\n",
              "      <td>0.868638</td>\n",
              "      <td>0.527446</td>\n",
              "      <td>-0.014067</td>\n",
              "      <td>1.000000</td>\n",
              "    </tr>\n",
              "  </tbody>\n",
              "</table>\n",
              "</div>\n",
              "      <button class=\"colab-df-convert\" onclick=\"convertToInteractive('df-2e9add7a-13f7-4ef6-83df-b049f2af5372')\"\n",
              "              title=\"Convert this dataframe to an interactive table.\"\n",
              "              style=\"display:none;\">\n",
              "        \n",
              "  <svg xmlns=\"http://www.w3.org/2000/svg\" height=\"24px\"viewBox=\"0 0 24 24\"\n",
              "       width=\"24px\">\n",
              "    <path d=\"M0 0h24v24H0V0z\" fill=\"none\"/>\n",
              "    <path d=\"M18.56 5.44l.94 2.06.94-2.06 2.06-.94-2.06-.94-.94-2.06-.94 2.06-2.06.94zm-11 1L8.5 8.5l.94-2.06 2.06-.94-2.06-.94L8.5 2.5l-.94 2.06-2.06.94zm10 10l.94 2.06.94-2.06 2.06-.94-2.06-.94-.94-2.06-.94 2.06-2.06.94z\"/><path d=\"M17.41 7.96l-1.37-1.37c-.4-.4-.92-.59-1.43-.59-.52 0-1.04.2-1.43.59L10.3 9.45l-7.72 7.72c-.78.78-.78 2.05 0 2.83L4 21.41c.39.39.9.59 1.41.59.51 0 1.02-.2 1.41-.59l7.78-7.78 2.81-2.81c.8-.78.8-2.07 0-2.86zM5.41 20L4 18.59l7.72-7.72 1.47 1.35L5.41 20z\"/>\n",
              "  </svg>\n",
              "      </button>\n",
              "      \n",
              "  <style>\n",
              "    .colab-df-container {\n",
              "      display:flex;\n",
              "      flex-wrap:wrap;\n",
              "      gap: 12px;\n",
              "    }\n",
              "\n",
              "    .colab-df-convert {\n",
              "      background-color: #E8F0FE;\n",
              "      border: none;\n",
              "      border-radius: 50%;\n",
              "      cursor: pointer;\n",
              "      display: none;\n",
              "      fill: #1967D2;\n",
              "      height: 32px;\n",
              "      padding: 0 0 0 0;\n",
              "      width: 32px;\n",
              "    }\n",
              "\n",
              "    .colab-df-convert:hover {\n",
              "      background-color: #E2EBFA;\n",
              "      box-shadow: 0px 1px 2px rgba(60, 64, 67, 0.3), 0px 1px 3px 1px rgba(60, 64, 67, 0.15);\n",
              "      fill: #174EA6;\n",
              "    }\n",
              "\n",
              "    [theme=dark] .colab-df-convert {\n",
              "      background-color: #3B4455;\n",
              "      fill: #D2E3FC;\n",
              "    }\n",
              "\n",
              "    [theme=dark] .colab-df-convert:hover {\n",
              "      background-color: #434B5C;\n",
              "      box-shadow: 0px 1px 3px 1px rgba(0, 0, 0, 0.15);\n",
              "      filter: drop-shadow(0px 1px 2px rgba(0, 0, 0, 0.3));\n",
              "      fill: #FFFFFF;\n",
              "    }\n",
              "  </style>\n",
              "\n",
              "      <script>\n",
              "        const buttonEl =\n",
              "          document.querySelector('#df-2e9add7a-13f7-4ef6-83df-b049f2af5372 button.colab-df-convert');\n",
              "        buttonEl.style.display =\n",
              "          google.colab.kernel.accessAllowed ? 'block' : 'none';\n",
              "\n",
              "        async function convertToInteractive(key) {\n",
              "          const element = document.querySelector('#df-2e9add7a-13f7-4ef6-83df-b049f2af5372');\n",
              "          const dataTable =\n",
              "            await google.colab.kernel.invokeFunction('convertToInteractive',\n",
              "                                                     [key], {});\n",
              "          if (!dataTable) return;\n",
              "\n",
              "          const docLinkHtml = 'Like what you see? Visit the ' +\n",
              "            '<a target=\"_blank\" href=https://colab.research.google.com/notebooks/data_table.ipynb>data table notebook</a>'\n",
              "            + ' to learn more about interactive tables.';\n",
              "          element.innerHTML = '';\n",
              "          dataTable['output_type'] = 'display_data';\n",
              "          await google.colab.output.renderOutput(dataTable, element);\n",
              "          const docLink = document.createElement('div');\n",
              "          docLink.innerHTML = docLinkHtml;\n",
              "          element.appendChild(docLink);\n",
              "        }\n",
              "      </script>\n",
              "    </div>\n",
              "  </div>\n",
              "  "
            ]
          },
          "metadata": {},
          "execution_count": 11
        }
      ]
    },
    {
      "cell_type": "markdown",
      "source": [
        "La mayor correlación existente se da entre el feature \"TV\" y \"Sales\".\n",
        "\n",
        "Se debe aplicar la regresión a este feature"
      ],
      "metadata": {
        "id": "Z8hTFfEa-nDZ"
      }
    },
    {
      "cell_type": "markdown",
      "source": [
        "##Entrenamiento del modelo"
      ],
      "metadata": {
        "id": "1TM46UQ8_MSu"
      }
    },
    {
      "cell_type": "code",
      "source": [
        "#Tomamos los datos que necestiamos del dataframe\n",
        "X = np.array(df['TV'])\n",
        "y = np.array(df['Sales'])\n",
        "plt.scatter(X,y)"
      ],
      "metadata": {
        "colab": {
          "base_uri": "https://localhost:8080/",
          "height": 282
        },
        "id": "4uY0HnQB97Sj",
        "outputId": "6009c08e-9424-4f69-8ec8-56283198ccfd"
      },
      "execution_count": null,
      "outputs": [
        {
          "output_type": "execute_result",
          "data": {
            "text/plain": [
              "<matplotlib.collections.PathCollection at 0x7f1e36066190>"
            ]
          },
          "metadata": {},
          "execution_count": 25
        },
        {
          "output_type": "display_data",
          "data": {
            "text/plain": [
              "<Figure size 432x288 with 1 Axes>"
            ],
            "image/png": "[encoded data removed]"
          },
          "metadata": {
            "needs_background": "light"
          }
        }
      ]
    },
    {
      "cell_type": "code",
      "source": [
        "#Cambiamos los datos a vector columna porque inicialmente estaba como un vector fila\n",
        "X = X.reshape(-1, 1)\n",
        "X"
      ],
      "metadata": {
        "colab": {
          "base_uri": "https://localhost:8080/"
        },
        "id": "9yzJH6z1QQq2",
        "outputId": "451b5600-03e3-4432-9357-a093212d8996"
      },
      "execution_count": null,
      "outputs": [
        {
          "output_type": "execute_result",
          "data": {
            "text/plain": [
              "array([[16.],\n",
              "       [13.],\n",
              "       [41.],\n",
              "       ...,\n",
              "       [44.],\n",
              "       [71.],\n",
              "       [42.]])"
            ]
          },
          "metadata": {},
          "execution_count": 30
        }
      ]
    },
    {
      "cell_type": "code",
      "source": [
        "#Generacion de los datos de entrenamiento y prueba\n",
        "X_train, X_test, y_train, y_test=train_test_split(X,y,test_size=0.2,random_state=42,shuffle=True)"
      ],
      "metadata": {
        "id": "jgg9mTlDAflR"
      },
      "execution_count": null,
      "outputs": []
    },
    {
      "cell_type": "code",
      "source": [
        "#Generación del modelo\n",
        "model = LinearRegression()\n",
        "model.fit(X_train,y_train)"
      ],
      "metadata": {
        "colab": {
          "base_uri": "https://localhost:8080/"
        },
        "id": "Yyqw925UOmm4",
        "outputId": "c79e87dd-bee9-4046-f3cd-38da6b67c14c"
      },
      "execution_count": null,
      "outputs": [
        {
          "output_type": "execute_result",
          "data": {
            "text/plain": [
              "LinearRegression()"
            ]
          },
          "metadata": {},
          "execution_count": 32
        }
      ]
    },
    {
      "cell_type": "markdown",
      "source": [
        "##Análisis de los resultados"
      ],
      "metadata": {
        "id": "pD8flRW0Qg7V"
      }
    },
    {
      "cell_type": "code",
      "source": [
        "plt.figure(figsize =(15,7))\n",
        "\n",
        "#Graficando los datos\n",
        "plt.scatter(X_test,y_test)\n",
        "plt.plot(X_test,model.predict(X_test),color='red')\n",
        "\n",
        "#Detalles esteticos del plot\n",
        "plt.xlabel('Presupuesto TV',size=15)\n",
        "plt.ylabel('Ventas',size=15)\n",
        "plt.legend(['Prediccion del modelo','Datos de Test'])\n",
        "plt.title('Datos de test vs Datos de predicción',size=20)\n",
        "plt.show()"
      ],
      "metadata": {
        "colab": {
          "base_uri": "https://localhost:8080/",
          "height": 469
        },
        "id": "cHEScps5PblG",
        "outputId": "bb39f1b3-1260-4978-9d5e-262686a6b5b5"
      },
      "execution_count": null,
      "outputs": [
        {
          "output_type": "display_data",
          "data": {
            "text/plain": [
              "<Figure size 1080x504 with 1 Axes>"
            ],
            "image/png": "[encoded data removed]"
          },
          "metadata": {
            "needs_background": "light"
          }
        }
      ]
    },
    {
      "cell_type": "markdown",
      "source": [
        "##Análisis de MSE y R2"
      ],
      "metadata": {
        "id": "XKL7crJtV4Z-"
      }
    },
    {
      "cell_type": "code",
      "source": [
        "# Análisis R2\n",
        "print(r2_score(y_test,model.predict(X_test)))\n",
        "# Análisis MSE\n",
        "print(mean_squared_error(y_test,model.predict(X_test),squared=True))"
      ],
      "metadata": {
        "colab": {
          "base_uri": "https://localhost:8080/"
        },
        "id": "LzWdm_mWQmTb",
        "outputId": "67bfb59f-1657-407d-b8fd-97b89cd8eddb"
      },
      "execution_count": null,
      "outputs": [
        {
          "output_type": "stream",
          "name": "stdout",
          "text": [
            "0.9990115565052095\n",
            "8.313211608212859\n"
          ]
        }
      ]
    },
    {
      "cell_type": "markdown",
      "source": [
        "Con los resultados obtenidos podemos concluir en que el modelo es bastante preciso, con una exactitud del 99%.\n",
        "Sin embargo, también el modelo está muy cercano de tener un sobreajuste, lo cual puede que no sea conveniente"
      ],
      "metadata": {
        "id": "wtMrF9HpWFYf"
      }
    }
  ]
}